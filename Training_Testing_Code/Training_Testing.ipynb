{
  "nbformat": 4,
  "nbformat_minor": 0,
  "metadata": {
    "colab": {
      "provenance": [],
      "gpuType": "T4"
    },
    "kernelspec": {
      "name": "python3",
      "display_name": "Python 3"
    },
    "language_info": {
      "name": "python"
    },
    "accelerator": "GPU"
  },
  "cells": [
    {
      "cell_type": "code",
      "source": [
        "pip install keras-tuner"
      ],
      "metadata": {
        "colab": {
          "base_uri": "https://localhost:8080/"
        },
        "id": "WTCsXe651ec1",
        "outputId": "84f7e19b-b233-403a-a3c3-da3e68ca47f4"
      },
      "execution_count": 1,
      "outputs": [
        {
          "output_type": "stream",
          "name": "stdout",
          "text": [
            "Collecting keras-tuner\n",
            "  Downloading keras_tuner-1.4.7-py3-none-any.whl.metadata (5.4 kB)\n",
            "Requirement already satisfied: keras in /usr/local/lib/python3.11/dist-packages (from keras-tuner) (3.8.0)\n",
            "Requirement already satisfied: packaging in /usr/local/lib/python3.11/dist-packages (from keras-tuner) (24.2)\n",
            "Requirement already satisfied: requests in /usr/local/lib/python3.11/dist-packages (from keras-tuner) (2.32.3)\n",
            "Collecting kt-legacy (from keras-tuner)\n",
            "  Downloading kt_legacy-1.0.5-py3-none-any.whl.metadata (221 bytes)\n",
            "Requirement already satisfied: absl-py in /usr/local/lib/python3.11/dist-packages (from keras->keras-tuner) (1.4.0)\n",
            "Requirement already satisfied: numpy in /usr/local/lib/python3.11/dist-packages (from keras->keras-tuner) (1.26.4)\n",
            "Requirement already satisfied: rich in /usr/local/lib/python3.11/dist-packages (from keras->keras-tuner) (13.9.4)\n",
            "Requirement already satisfied: namex in /usr/local/lib/python3.11/dist-packages (from keras->keras-tuner) (0.0.8)\n",
            "Requirement already satisfied: h5py in /usr/local/lib/python3.11/dist-packages (from keras->keras-tuner) (3.12.1)\n",
            "Requirement already satisfied: optree in /usr/local/lib/python3.11/dist-packages (from keras->keras-tuner) (0.14.0)\n",
            "Requirement already satisfied: ml-dtypes in /usr/local/lib/python3.11/dist-packages (from keras->keras-tuner) (0.4.1)\n",
            "Requirement already satisfied: charset-normalizer<4,>=2 in /usr/local/lib/python3.11/dist-packages (from requests->keras-tuner) (3.4.1)\n",
            "Requirement already satisfied: idna<4,>=2.5 in /usr/local/lib/python3.11/dist-packages (from requests->keras-tuner) (3.10)\n",
            "Requirement already satisfied: urllib3<3,>=1.21.1 in /usr/local/lib/python3.11/dist-packages (from requests->keras-tuner) (2.3.0)\n",
            "Requirement already satisfied: certifi>=2017.4.17 in /usr/local/lib/python3.11/dist-packages (from requests->keras-tuner) (2024.12.14)\n",
            "Requirement already satisfied: typing-extensions>=4.5.0 in /usr/local/lib/python3.11/dist-packages (from optree->keras->keras-tuner) (4.12.2)\n",
            "Requirement already satisfied: markdown-it-py>=2.2.0 in /usr/local/lib/python3.11/dist-packages (from rich->keras->keras-tuner) (3.0.0)\n",
            "Requirement already satisfied: pygments<3.0.0,>=2.13.0 in /usr/local/lib/python3.11/dist-packages (from rich->keras->keras-tuner) (2.18.0)\n",
            "Requirement already satisfied: mdurl~=0.1 in /usr/local/lib/python3.11/dist-packages (from markdown-it-py>=2.2.0->rich->keras->keras-tuner) (0.1.2)\n",
            "Downloading keras_tuner-1.4.7-py3-none-any.whl (129 kB)\n",
            "\u001b[2K   \u001b[90m━━━━━━━━━━━━━━━━━━━━━━━━━━━━━━━━━━━━━━━━\u001b[0m \u001b[32m129.1/129.1 kB\u001b[0m \u001b[31m5.4 MB/s\u001b[0m eta \u001b[36m0:00:00\u001b[0m\n",
            "\u001b[?25hDownloading kt_legacy-1.0.5-py3-none-any.whl (9.6 kB)\n",
            "Installing collected packages: kt-legacy, keras-tuner\n",
            "Successfully installed keras-tuner-1.4.7 kt-legacy-1.0.5\n"
          ]
        }
      ]
    },
    {
      "cell_type": "code",
      "execution_count": 2,
      "metadata": {
        "id": "pG5mCLZnoKsr"
      },
      "outputs": [],
      "source": [
        "#Dependancies\n",
        "import tensorflow as tf\n",
        "from tensorflow.keras.models import Sequential\n",
        "from tensorflow.keras.layers import Conv2D, MaxPooling2D, Flatten, Dense, Dropout\n",
        "import keras_tuner as kt  # Hyperparameter tuning\n",
        "from tensorflow.keras.preprocessing.image import ImageDataGenerator\n"
      ]
    },
    {
      "cell_type": "code",
      "source": [
        "import kagglehub\n",
        "\n",
        "# Download latest version\n",
        "path = kagglehub.dataset_download(\"jessicali9530/stanford-dogs-dataset\")\n",
        "\n",
        "print(\"Path to dataset files:\", path)"
      ],
      "metadata": {
        "colab": {
          "base_uri": "https://localhost:8080/"
        },
        "id": "bRwfoMiy1Qgs",
        "outputId": "42af9315-c69d-4e26-83fc-dab11743829c"
      },
      "execution_count": 3,
      "outputs": [
        {
          "output_type": "stream",
          "name": "stdout",
          "text": [
            "Warning: Looks like you're using an outdated `kagglehub` version (installed: 0.3.6), please consider upgrading to the latest version (0.3.7).\n",
            "Downloading from https://www.kaggle.com/api/v1/datasets/download/jessicali9530/stanford-dogs-dataset?dataset_version_number=2...\n"
          ]
        },
        {
          "output_type": "stream",
          "name": "stderr",
          "text": [
            "100%|██████████| 750M/750M [00:09<00:00, 81.8MB/s]"
          ]
        },
        {
          "output_type": "stream",
          "name": "stdout",
          "text": [
            "Extracting files...\n"
          ]
        },
        {
          "output_type": "stream",
          "name": "stderr",
          "text": [
            "\n"
          ]
        },
        {
          "output_type": "stream",
          "name": "stdout",
          "text": [
            "Path to dataset files: /root/.cache/kagglehub/datasets/jessicali9530/stanford-dogs-dataset/versions/2\n"
          ]
        }
      ]
    },
    {
      "cell_type": "code",
      "source": [
        "#Split Data into training and testing groups\n",
        "\n",
        "IMG_SIZE = (224, 224)\n",
        "BATCH_SIZE = 32\n",
        "DATASET_PATH = path\n",
        "\n",
        "# Apply rescaling (since your images are already augmented)\n",
        "datagen = ImageDataGenerator(\n",
        "    rescale=1./255,\n",
        "    validation_split=0.2  # 20% validation data\n",
        ")\n",
        "\n",
        "# Create Train Dataset\n",
        "train_data = datagen.flow_from_directory(\n",
        "    DATASET_PATH, target_size=IMG_SIZE, batch_size=BATCH_SIZE, class_mode='categorical', subset='training'\n",
        ")\n",
        "\n",
        "# Create Validation Dataset\n",
        "val_data = datagen.flow_from_directory(\n",
        "    DATASET_PATH, target_size=IMG_SIZE, batch_size=BATCH_SIZE, class_mode='categorical', subset='validation'\n",
        ")\n"
      ],
      "metadata": {
        "colab": {
          "base_uri": "https://localhost:8080/"
        },
        "id": "3TILKhq4oQ3a",
        "outputId": "37323b4f-2340-4ec6-fa1b-2b82e196ce90"
      },
      "execution_count": 4,
      "outputs": [
        {
          "output_type": "stream",
          "name": "stdout",
          "text": [
            "Found 16464 images belonging to 2 classes.\n",
            "Found 4116 images belonging to 2 classes.\n"
          ]
        }
      ]
    },
    {
      "cell_type": "code",
      "source": [
        "#Not sure if this is needed\n",
        "IMG_SIZE = (224, 224)  # Image size\n",
        "INPUT_SHAPE = (224, 224, 3)  # Image dimensions (RGB)\n",
        "NUM_CLASSES = 2  # Replace with the number of dog breeds in your dataset\n"
      ],
      "metadata": {
        "id": "bqkKRERjoQ-L"
      },
      "execution_count": 5,
      "outputs": []
    },
    {
      "cell_type": "code",
      "source": [
        "def create_model(hp):\n",
        "    model = Sequential()\n",
        "\n",
        "    # First Conv Layer with tunable filters & activation\n",
        "    model.add(Conv2D(\n",
        "        filters=hp.Int('conv1_filters', min_value=16, max_value=128, step=32),\n",
        "        kernel_size=(3,3), activation=hp.Choice('activation', ['relu', 'tanh', 'sigmoid']),\n",
        "        input_shape=INPUT_SHAPE\n",
        "    ))\n",
        "    model.add(MaxPooling2D(2,2))\n",
        "\n",
        "    # Allow kerastuner to decide number of Conv layers\n",
        "    for i in range(hp.Int('num_conv_layers', 1, 4)):\n",
        "        model.add(Conv2D(\n",
        "            filters=hp.Int(f'conv_filters_{i}', min_value=16, max_value=128, step=32),\n",
        "            kernel_size=(3,3), activation=hp.Choice('activation', ['relu', 'tanh', 'sigmoid'])\n",
        "        ))\n",
        "        model.add(MaxPooling2D(2,2))\n",
        "\n",
        "    model.add(Flatten())\n",
        "\n",
        "    # Dense layers (fully connected)\n",
        "    for i in range(hp.Int('num_dense_layers', 1, 3)):\n",
        "        model.add(Dense(\n",
        "            units=hp.Int(f'dense_units_{i}', min_value=64, max_value=512, step=64),\n",
        "            activation=hp.Choice('activation', ['relu', 'tanh', 'sigmoid'])\n",
        "        ))\n",
        "        model.add(Dropout(rate=hp.Float(f'dropout_{i}', min_value=0.2, max_value=0.5, step=0.1)))\n",
        "\n",
        "    # Output layer for multi-class classification\n",
        "    model.add(Dense(NUM_CLASSES, activation='softmax'))\n",
        "\n",
        "    # Compile the model\n",
        "    model.compile(\n",
        "        optimizer='adam',\n",
        "        loss='categorical_crossentropy',\n",
        "        metrics=['accuracy']\n",
        "    )\n",
        "\n",
        "    return model"
      ],
      "metadata": {
        "id": "g_-D-aGorxzg"
      },
      "execution_count": 6,
      "outputs": []
    },
    {
      "cell_type": "code",
      "source": [
        "# def create_model(hp):\n",
        "#     model = Sequential()\n",
        "\n",
        "#     # First Conv Layer with optimized filters & fixed activation (ReLU is best)\n",
        "#     model.add(Conv2D(\n",
        "#         filters=hp.Int('conv1_filters', min_value=32, max_value=64, step=32),\n",
        "#         kernel_size=(3,3), activation='relu',\n",
        "#         input_shape=INPUT_SHAPE\n",
        "#     ))\n",
        "#     model.add(MaxPooling2D(2,2))\n",
        "\n",
        "#     # Reduce number of Conv layers (max 2)\n",
        "#     for i in range(hp.Int('num_conv_layers', 1, 2)):\n",
        "#         model.add(Conv2D(\n",
        "#             filters=hp.Int(f'conv_filters_{i}', min_value=32, max_value=64, step=32),\n",
        "#             kernel_size=(3,3), activation='relu'\n",
        "#         ))\n",
        "#         model.add(MaxPooling2D(2,2))\n",
        "\n",
        "#     model.add(Flatten())\n",
        "\n",
        "#     # Reduce Dense layers & neuron count\n",
        "#     for i in range(hp.Int('num_dense_layers', 1, 2)):\n",
        "#         model.add(Dense(\n",
        "#             units=hp.Int(f'dense_units_{i}', min_value=32, max_value=256, step=64),\n",
        "#             activation='relu'\n",
        "#         ))\n",
        "#         model.add(Dropout(rate=hp.Float(f'dropout_{i}', min_value=0.3, max_value=0.5, step=0.1)))\n",
        "\n",
        "#     # Output layer for multi-class classification\n",
        "#     model.add(Dense(NUM_CLASSES, activation='softmax'))\n",
        "\n",
        "#     # Compile the model\n",
        "#     model.compile(\n",
        "#         optimizer='adam',\n",
        "#         loss='categorical_crossentropy',\n",
        "#         metrics=['accuracy']\n",
        "#     )\n",
        "\n",
        "#     return model\n"
      ],
      "metadata": {
        "id": "MMWCL_yf47wL"
      },
      "execution_count": 7,
      "outputs": []
    },
    {
      "cell_type": "code",
      "source": [
        "from kerastuner.tuners import RandomSearch"
      ],
      "metadata": {
        "colab": {
          "base_uri": "https://localhost:8080/"
        },
        "id": "HU9Y8l_srx14",
        "outputId": "8211f18b-cd3e-49b0-85fa-3efdc0501e4c"
      },
      "execution_count": 8,
      "outputs": [
        {
          "output_type": "stream",
          "name": "stderr",
          "text": [
            "<ipython-input-8-94471a811b41>:1: DeprecationWarning: `import kerastuner` is deprecated, please use `import keras_tuner`.\n",
            "  from kerastuner.tuners import RandomSearch\n"
          ]
        }
      ]
    },
    {
      "cell_type": "code",
      "source": [
        "# Define tuner with faster settings\n",
        "tuner = RandomSearch(\n",
        "    create_model,\n",
        "    objective='val_accuracy',\n",
        "    max_trials=10,  # ⬇️ Less models to test (faster tuning)\n",
        "    executions_per_trial=1,  # ⬇️ Train each model ONCE instead of twice!\n",
        "    directory='kerastuner_results',\n",
        "    project_name='dog_breed_classifier'\n",
        ")\n"
      ],
      "metadata": {
        "colab": {
          "base_uri": "https://localhost:8080/"
        },
        "id": "v-FXrVxMrx4X",
        "outputId": "4f98473f-bcfa-4bc2-d0b5-21e83dc3c75f"
      },
      "execution_count": 9,
      "outputs": [
        {
          "output_type": "stream",
          "name": "stderr",
          "text": [
            "/usr/local/lib/python3.11/dist-packages/keras/src/layers/convolutional/base_conv.py:107: UserWarning: Do not pass an `input_shape`/`input_dim` argument to a layer. When using Sequential models, prefer using an `Input(shape)` object as the first layer in the model instead.\n",
            "  super().__init__(activity_regularizer=activity_regularizer, **kwargs)\n"
          ]
        }
      ]
    },
    {
      "cell_type": "code",
      "source": [
        "# Run tuning\n",
        "tuner.search(train_data, validation_data=val_data, epochs=5)"
      ],
      "metadata": {
        "colab": {
          "base_uri": "https://localhost:8080/"
        },
        "id": "_5sk_5ACr8mD",
        "outputId": "19147acc-15c4-492f-a29d-8bb1d532d8df"
      },
      "execution_count": 10,
      "outputs": [
        {
          "output_type": "stream",
          "name": "stdout",
          "text": [
            "Trial 10 Complete [00h 04m 10s]\n",
            "val_accuracy: 1.0\n",
            "\n",
            "Best val_accuracy So Far: 1.0\n",
            "Total elapsed time: 00h 49m 28s\n"
          ]
        }
      ]
    },
    {
      "cell_type": "code",
      "source": [
        "# Get the best model\n",
        "best_hps = tuner.get_best_hyperparameters(num_trials=1)[0]\n",
        "best_model = tuner.hypermodel.build(best_hps)"
      ],
      "metadata": {
        "id": "ngrrHpxgr8pI"
      },
      "execution_count": 11,
      "outputs": []
    },
    {
      "cell_type": "code",
      "source": [
        "# Train the best model\n",
        "history = best_model.fit(train_data, validation_data=val_data, epochs=20)"
      ],
      "metadata": {
        "colab": {
          "base_uri": "https://localhost:8080/"
        },
        "id": "t9b3oJ7Nr8rZ",
        "outputId": "c04a9577-ec92-4784-8a5e-66cd1b9fd43e"
      },
      "execution_count": 12,
      "outputs": [
        {
          "output_type": "stream",
          "name": "stdout",
          "text": [
            "Epoch 1/20\n",
            "\u001b[1m515/515\u001b[0m \u001b[32m━━━━━━━━━━━━━━━━━━━━\u001b[0m\u001b[37m\u001b[0m \u001b[1m57s\u001b[0m 100ms/step - accuracy: 0.9856 - loss: 0.0458 - val_accuracy: 1.0000 - val_loss: 3.5864e-04\n",
            "Epoch 2/20\n",
            "\u001b[1m515/515\u001b[0m \u001b[32m━━━━━━━━━━━━━━━━━━━━\u001b[0m\u001b[37m\u001b[0m \u001b[1m50s\u001b[0m 98ms/step - accuracy: 1.0000 - loss: 4.5226e-04 - val_accuracy: 1.0000 - val_loss: 1.1980e-04\n",
            "Epoch 3/20\n",
            "\u001b[1m515/515\u001b[0m \u001b[32m━━━━━━━━━━━━━━━━━━━━\u001b[0m\u001b[37m\u001b[0m \u001b[1m47s\u001b[0m 91ms/step - accuracy: 1.0000 - loss: 1.8036e-04 - val_accuracy: 1.0000 - val_loss: 6.0199e-05\n",
            "Epoch 4/20\n",
            "\u001b[1m515/515\u001b[0m \u001b[32m━━━━━━━━━━━━━━━━━━━━\u001b[0m\u001b[37m\u001b[0m \u001b[1m48s\u001b[0m 93ms/step - accuracy: 1.0000 - loss: 9.8846e-05 - val_accuracy: 1.0000 - val_loss: 3.5881e-05\n",
            "Epoch 5/20\n",
            "\u001b[1m515/515\u001b[0m \u001b[32m━━━━━━━━━━━━━━━━━━━━\u001b[0m\u001b[37m\u001b[0m \u001b[1m48s\u001b[0m 94ms/step - accuracy: 1.0000 - loss: 6.0373e-05 - val_accuracy: 1.0000 - val_loss: 2.3126e-05\n",
            "Epoch 6/20\n",
            "\u001b[1m515/515\u001b[0m \u001b[32m━━━━━━━━━━━━━━━━━━━━\u001b[0m\u001b[37m\u001b[0m \u001b[1m48s\u001b[0m 93ms/step - accuracy: 1.0000 - loss: 4.1605e-05 - val_accuracy: 1.0000 - val_loss: 1.5616e-05\n",
            "Epoch 7/20\n",
            "\u001b[1m515/515\u001b[0m \u001b[32m━━━━━━━━━━━━━━━━━━━━\u001b[0m\u001b[37m\u001b[0m \u001b[1m50s\u001b[0m 97ms/step - accuracy: 1.0000 - loss: 3.0327e-05 - val_accuracy: 1.0000 - val_loss: 1.0848e-05\n",
            "Epoch 8/20\n",
            "\u001b[1m515/515\u001b[0m \u001b[32m━━━━━━━━━━━━━━━━━━━━\u001b[0m\u001b[37m\u001b[0m \u001b[1m52s\u001b[0m 100ms/step - accuracy: 1.0000 - loss: 2.0411e-05 - val_accuracy: 1.0000 - val_loss: 7.8678e-06\n",
            "Epoch 9/20\n",
            "\u001b[1m515/515\u001b[0m \u001b[32m━━━━━━━━━━━━━━━━━━━━\u001b[0m\u001b[37m\u001b[0m \u001b[1m50s\u001b[0m 98ms/step - accuracy: 1.0000 - loss: 1.5901e-05 - val_accuracy: 1.0000 - val_loss: 5.6028e-06\n",
            "Epoch 10/20\n",
            "\u001b[1m515/515\u001b[0m \u001b[32m━━━━━━━━━━━━━━━━━━━━\u001b[0m\u001b[37m\u001b[0m \u001b[1m48s\u001b[0m 93ms/step - accuracy: 1.0000 - loss: 1.1931e-05 - val_accuracy: 1.0000 - val_loss: 4.1723e-06\n",
            "Epoch 11/20\n",
            "\u001b[1m515/515\u001b[0m \u001b[32m━━━━━━━━━━━━━━━━━━━━\u001b[0m\u001b[37m\u001b[0m \u001b[1m49s\u001b[0m 94ms/step - accuracy: 1.0000 - loss: 8.8954e-06 - val_accuracy: 1.0000 - val_loss: 2.9802e-06\n",
            "Epoch 12/20\n",
            "\u001b[1m515/515\u001b[0m \u001b[32m━━━━━━━━━━━━━━━━━━━━\u001b[0m\u001b[37m\u001b[0m \u001b[1m49s\u001b[0m 94ms/step - accuracy: 1.0000 - loss: 6.5885e-06 - val_accuracy: 1.0000 - val_loss: 2.2650e-06\n",
            "Epoch 13/20\n",
            "\u001b[1m515/515\u001b[0m \u001b[32m━━━━━━━━━━━━━━━━━━━━\u001b[0m\u001b[37m\u001b[0m \u001b[1m46s\u001b[0m 90ms/step - accuracy: 1.0000 - loss: 4.9296e-06 - val_accuracy: 1.0000 - val_loss: 1.6689e-06\n",
            "Epoch 14/20\n",
            "\u001b[1m515/515\u001b[0m \u001b[32m━━━━━━━━━━━━━━━━━━━━\u001b[0m\u001b[37m\u001b[0m \u001b[1m50s\u001b[0m 96ms/step - accuracy: 1.0000 - loss: 3.8282e-06 - val_accuracy: 1.0000 - val_loss: 1.3113e-06\n",
            "Epoch 15/20\n",
            "\u001b[1m515/515\u001b[0m \u001b[32m━━━━━━━━━━━━━━━━━━━━\u001b[0m\u001b[37m\u001b[0m \u001b[1m50s\u001b[0m 97ms/step - accuracy: 1.0000 - loss: 2.9461e-06 - val_accuracy: 1.0000 - val_loss: 9.5367e-07\n",
            "Epoch 16/20\n",
            "\u001b[1m515/515\u001b[0m \u001b[32m━━━━━━━━━━━━━━━━━━━━\u001b[0m\u001b[37m\u001b[0m \u001b[1m47s\u001b[0m 91ms/step - accuracy: 1.0000 - loss: 2.2531e-06 - val_accuracy: 1.0000 - val_loss: 7.1526e-07\n",
            "Epoch 17/20\n",
            "\u001b[1m515/515\u001b[0m \u001b[32m━━━━━━━━━━━━━━━━━━━━\u001b[0m\u001b[37m\u001b[0m \u001b[1m82s\u001b[0m 92ms/step - accuracy: 1.0000 - loss: 1.7944e-06 - val_accuracy: 1.0000 - val_loss: 5.9605e-07\n",
            "Epoch 18/20\n",
            "\u001b[1m515/515\u001b[0m \u001b[32m━━━━━━━━━━━━━━━━━━━━\u001b[0m\u001b[37m\u001b[0m \u001b[1m48s\u001b[0m 93ms/step - accuracy: 1.0000 - loss: 1.4561e-06 - val_accuracy: 1.0000 - val_loss: 3.5763e-07\n",
            "Epoch 19/20\n",
            "\u001b[1m515/515\u001b[0m \u001b[32m━━━━━━━━━━━━━━━━━━━━\u001b[0m\u001b[37m\u001b[0m \u001b[1m47s\u001b[0m 91ms/step - accuracy: 1.0000 - loss: 1.0982e-06 - val_accuracy: 1.0000 - val_loss: 3.5763e-07\n",
            "Epoch 20/20\n",
            "\u001b[1m515/515\u001b[0m \u001b[32m━━━━━━━━━━━━━━━━━━━━\u001b[0m\u001b[37m\u001b[0m \u001b[1m51s\u001b[0m 99ms/step - accuracy: 1.0000 - loss: 8.6083e-07 - val_accuracy: 1.0000 - val_loss: 2.3842e-07\n"
          ]
        }
      ]
    },
    {
      "cell_type": "code",
      "source": [
        "# Save the best model\n",
        "best_model.save(\"best_dog_breed_classifier.h5\")"
      ],
      "metadata": {
        "colab": {
          "base_uri": "https://localhost:8080/"
        },
        "id": "7MaldB_Fr8uE",
        "outputId": "3d9bb3fc-ccb2-43e2-cd69-95ee126e4314"
      },
      "execution_count": 13,
      "outputs": [
        {
          "output_type": "stream",
          "name": "stderr",
          "text": [
            "WARNING:absl:You are saving your model as an HDF5 file via `model.save()` or `keras.saving.save_model(model)`. This file format is considered legacy. We recommend using instead the native Keras format, e.g. `model.save('my_model.keras')` or `keras.saving.save_model(model, 'my_model.keras')`. \n"
          ]
        }
      ]
    },
    {
      "cell_type": "code",
      "source": [
        "from google.colab import files\n",
        "\n",
        "\n",
        "# Download the saved model to your local machine\n",
        "files.download(\"best_dog_breed_classifier.h5\")"
      ],
      "metadata": {
        "colab": {
          "base_uri": "https://localhost:8080/",
          "height": 17
        },
        "id": "pnDLCXGXrx9H",
        "outputId": "dc643ed7-2c25-4a27-a615-02c239e5cfe3"
      },
      "execution_count": 14,
      "outputs": [
        {
          "output_type": "display_data",
          "data": {
            "text/plain": [
              "<IPython.core.display.Javascript object>"
            ],
            "application/javascript": [
              "\n",
              "    async function download(id, filename, size) {\n",
              "      if (!google.colab.kernel.accessAllowed) {\n",
              "        return;\n",
              "      }\n",
              "      const div = document.createElement('div');\n",
              "      const label = document.createElement('label');\n",
              "      label.textContent = `Downloading \"${filename}\": `;\n",
              "      div.appendChild(label);\n",
              "      const progress = document.createElement('progress');\n",
              "      progress.max = size;\n",
              "      div.appendChild(progress);\n",
              "      document.body.appendChild(div);\n",
              "\n",
              "      const buffers = [];\n",
              "      let downloaded = 0;\n",
              "\n",
              "      const channel = await google.colab.kernel.comms.open(id);\n",
              "      // Send a message to notify the kernel that we're ready.\n",
              "      channel.send({})\n",
              "\n",
              "      for await (const message of channel.messages) {\n",
              "        // Send a message to notify the kernel that we're ready.\n",
              "        channel.send({})\n",
              "        if (message.buffers) {\n",
              "          for (const buffer of message.buffers) {\n",
              "            buffers.push(buffer);\n",
              "            downloaded += buffer.byteLength;\n",
              "            progress.value = downloaded;\n",
              "          }\n",
              "        }\n",
              "      }\n",
              "      const blob = new Blob(buffers, {type: 'application/binary'});\n",
              "      const a = document.createElement('a');\n",
              "      a.href = window.URL.createObjectURL(blob);\n",
              "      a.download = filename;\n",
              "      div.appendChild(a);\n",
              "      a.click();\n",
              "      div.remove();\n",
              "    }\n",
              "  "
            ]
          },
          "metadata": {}
        },
        {
          "output_type": "display_data",
          "data": {
            "text/plain": [
              "<IPython.core.display.Javascript object>"
            ],
            "application/javascript": [
              "download(\"download_8b4016f5-407d-4aa5-9d5a-c18e2e1f4b48\", \"best_dog_breed_classifier.h5\", 7716080)"
            ]
          },
          "metadata": {}
        }
      ]
    }
  ]
}